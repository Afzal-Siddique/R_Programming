{
  "nbformat": 4,
  "nbformat_minor": 0,
  "metadata": {
    "colab": {
      "name": "R_Experiment4_writeup.ipynb",
      "provenance": [],
      "collapsed_sections": []
    },
    "kernelspec": {
      "name": "ir",
      "display_name": "R"
    }
  },
  "cells": [
    {
      "cell_type": "markdown",
      "metadata": {
        "id": "ID8ytqkhyQUI"
      },
      "source": [
        "**R Programming apply family of functions**\n",
        "\n",
        "In this experiment we will learn about how to use apply family of functions\n",
        "to do data wrangling and avaoid use of looping constructs \n",
        "\n",
        "The R base manual tells you that it’s called as follows: \n",
        "\n",
        "```\n",
        "apply(X, MARGIN, FUN, ...)\n",
        "```\n",
        "\n",
        "\n",
        "```X``` is an array or a matrix if the dimension of the array is ```2```\n",
        "\n",
        "```MARGIN``` is a variable defining how the function is applied: \n",
        " \n",
        "\n",
        "*   When ```MARGIN=1```, it applies over rows \n",
        "*   Whereas with ```MARGIN=2```, it works over columns\n",
        "*   ```MARGIN=c(1,2)```, it applies to both rows and columns;     \n",
        "\n",
        "and\n",
        "```FUN```, represents the function that you want to apply to the data. It can be any R function, including a User Defined Function (UDF)."
      ]
    },
    {
      "cell_type": "code",
      "metadata": {
        "id": "rlOEIqlfJf2P",
        "colab": {
          "base_uri": "https://localhost:8080/",
          "height": 182
        },
        "outputId": "ea62de6c-fe39-4e2f-cce3-38eae95f324a"
      },
      "source": [
        "# Complete the following code by using apropriate apply family function\n",
        "# Construct a 5x6 matrix\n",
        "X <-matrix(rnorm(30), nrow=5, ncol=6)\n",
        "X\n",
        "\n",
        "\n",
        "\n"
      ],
      "execution_count": 1,
      "outputs": [
        {
          "output_type": "display_data",
          "data": {
            "text/plain": [
              "     [,1]       [,2]       [,3]       [,4]        [,5]       [,6]       \n",
              "[1,]  1.0280596  1.0731702 -0.9333935 -1.02386970 -0.6977347  0.41290850\n",
              "[2,]  1.3100591  0.6127682  0.4314712  1.81672520  0.6181652  1.05897350\n",
              "[3,]  1.3508136 -0.6905205 -0.6880943 -2.87077582 -0.2709282 -0.09918477\n",
              "[4,] -1.6257865 -0.7278499 -0.1236284 -0.39065727 -1.5487372 -1.33622036\n",
              "[5,]  0.2366202  1.1232852 -0.4682073 -0.06365649 -0.2624893  0.48107174"
            ],
            "text/latex": "A matrix: 5 × 6 of type dbl\n\\begin{tabular}{llllll}\n\t  1.0280596 &  1.0731702 & -0.9333935 & -1.02386970 & -0.6977347 &  0.41290850\\\\\n\t  1.3100591 &  0.6127682 &  0.4314712 &  1.81672520 &  0.6181652 &  1.05897350\\\\\n\t  1.3508136 & -0.6905205 & -0.6880943 & -2.87077582 & -0.2709282 & -0.09918477\\\\\n\t -1.6257865 & -0.7278499 & -0.1236284 & -0.39065727 & -1.5487372 & -1.33622036\\\\\n\t  0.2366202 &  1.1232852 & -0.4682073 & -0.06365649 & -0.2624893 &  0.48107174\\\\\n\\end{tabular}\n",
            "text/markdown": "\nA matrix: 5 × 6 of type dbl\n\n|  1.0280596 |  1.0731702 | -0.9333935 | -1.02386970 | -0.6977347 |  0.41290850 |\n|  1.3100591 |  0.6127682 |  0.4314712 |  1.81672520 |  0.6181652 |  1.05897350 |\n|  1.3508136 | -0.6905205 | -0.6880943 | -2.87077582 | -0.2709282 | -0.09918477 |\n| -1.6257865 | -0.7278499 | -0.1236284 | -0.39065727 | -1.5487372 | -1.33622036 |\n|  0.2366202 |  1.1232852 | -0.4682073 | -0.06365649 | -0.2624893 |  0.48107174 |\n\n",
            "text/html": [
              "<table class=\"dataframe\">\n",
              "<caption>A matrix: 5 × 6 of type dbl</caption>\n",
              "<tbody>\n",
              "\t<tr><td> 1.0280596</td><td> 1.0731702</td><td>-0.9333935</td><td>-1.02386970</td><td>-0.6977347</td><td> 0.41290850</td></tr>\n",
              "\t<tr><td> 1.3100591</td><td> 0.6127682</td><td> 0.4314712</td><td> 1.81672520</td><td> 0.6181652</td><td> 1.05897350</td></tr>\n",
              "\t<tr><td> 1.3508136</td><td>-0.6905205</td><td>-0.6880943</td><td>-2.87077582</td><td>-0.2709282</td><td>-0.09918477</td></tr>\n",
              "\t<tr><td>-1.6257865</td><td>-0.7278499</td><td>-0.1236284</td><td>-0.39065727</td><td>-1.5487372</td><td>-1.33622036</td></tr>\n",
              "\t<tr><td> 0.2366202</td><td> 1.1232852</td><td>-0.4682073</td><td>-0.06365649</td><td>-0.2624893</td><td> 0.48107174</td></tr>\n",
              "</tbody>\n",
              "</table>\n"
            ]
          },
          "metadata": {
            "tags": []
          }
        }
      ]
    },
    {
      "cell_type": "code",
      "metadata": {
        "id": "iK4fqrNO9AS_",
        "outputId": "12cf859f-69ad-4759-edaa-767bb829ac01",
        "colab": {
          "base_uri": "https://localhost:8080/",
          "height": 34
        }
      },
      "source": [
        "# Sum the values of each column with apply()\n",
        "X_colsum <- apply(X,2,sum)\n",
        "X_colsum"
      ],
      "execution_count": 2,
      "outputs": [
        {
          "output_type": "display_data",
          "data": {
            "text/plain": [
              "[1]  2.2997660  1.3908532 -1.7818524 -2.5322341 -2.1617242  0.5175486"
            ],
            "text/latex": "\\begin{enumerate*}\n\\item 2.29976596574085\n\\item 1.39085320186568\n\\item -1.78185244684145\n\\item -2.53223406896493\n\\item -2.16172417591028\n\\item 0.517548600526007\n\\end{enumerate*}\n",
            "text/markdown": "1. 2.29976596574085\n2. 1.39085320186568\n3. -1.78185244684145\n4. -2.53223406896493\n5. -2.16172417591028\n6. 0.517548600526007\n\n\n",
            "text/html": [
              "<style>\n",
              ".list-inline {list-style: none; margin:0; padding: 0}\n",
              ".list-inline>li {display: inline-block}\n",
              ".list-inline>li:not(:last-child)::after {content: \"\\00b7\"; padding: 0 .5ex}\n",
              "</style>\n",
              "<ol class=list-inline><li>2.29976596574085</li><li>1.39085320186568</li><li>-1.78185244684145</li><li>-2.53223406896493</li><li>-2.16172417591028</li><li>0.517548600526007</li></ol>\n"
            ]
          },
          "metadata": {
            "tags": []
          }
        }
      ]
    },
    {
      "cell_type": "code",
      "metadata": {
        "id": "KMacbvMI9CoQ",
        "outputId": "b4db23e4-3e58-48b6-87ac-6bac32399e02",
        "colab": {
          "base_uri": "https://localhost:8080/",
          "height": 34
        }
      },
      "source": [
        "# Sum the values of each row with apply()\n",
        "X_rowsum <- apply(X,1,sum)\n",
        "X_rowsum"
      ],
      "execution_count": 3,
      "outputs": [
        {
          "output_type": "display_data",
          "data": {
            "text/plain": [
              "[1] -0.1408597  5.8481624 -3.2686900 -5.7528796  1.0466240"
            ],
            "text/latex": "\\begin{enumerate*}\n\\item -0.140859701191248\n\\item 5.84816240054474\n\\item -3.26868999528886\n\\item -5.75287963310824\n\\item 1.04662400545949\n\\end{enumerate*}\n",
            "text/markdown": "1. -0.140859701191248\n2. 5.84816240054474\n3. -3.26868999528886\n4. -5.75287963310824\n5. 1.04662400545949\n\n\n",
            "text/html": [
              "<style>\n",
              ".list-inline {list-style: none; margin:0; padding: 0}\n",
              ".list-inline>li {display: inline-block}\n",
              ".list-inline>li:not(:last-child)::after {content: \"\\00b7\"; padding: 0 .5ex}\n",
              "</style>\n",
              "<ol class=list-inline><li>-0.140859701191248</li><li>5.84816240054474</li><li>-3.26868999528886</li><li>-5.75287963310824</li><li>1.04662400545949</li></ol>\n"
            ]
          },
          "metadata": {
            "tags": []
          }
        }
      ]
    },
    {
      "cell_type": "markdown",
      "metadata": {
        "id": "c8gOYmFjf3lO"
      },
      "source": [
        "The **lapply()** Function is used when You want to apply a given function to every element of a list and obtain a list as a result.\n",
        " \n",
        " Syntax of **lapply()** looks like the **apply()** function.\n",
        "\n",
        "There is a slight difference in way they work, which is :\n",
        "\n",
        "\n",
        "\n",
        "1.   **lapply()** can be used for other objects like dataframes, lists or vectors\n",
        "2.   The output returned by **lapply()** is a list (which explains the “l” in the function name), which has the same number of elements as the object passed to it.\n",
        "\n",
        "To see how this works, complete the following code block.\n",
        "\n",
        "**lapply()** is a quite common operation performed on real data when making comparisons or aggregations from different dataframes.\n"
      ]
    },
    {
      "cell_type": "code",
      "metadata": {
        "id": "CbwaRO2ChyfV",
        "outputId": "26bb31ee-0bb8-44f4-c15b-94dac99a052c",
        "colab": {
          "base_uri": "https://localhost:8080/",
          "height": 156
        }
      },
      "source": [
        "# Using sequence 1:9 create a matrix A with size 3*3\n",
        "A <- matrix(1:9, nrow=3, ncol=3)\n",
        "A \n",
        "\n",
        "\n",
        "\n",
        "\n",
        "\n",
        "\n",
        "\n",
        "\n",
        "\n",
        "\n",
        "\n",
        "\n",
        "\n",
        "\n",
        "\n"
      ],
      "execution_count": 4,
      "outputs": [
        {
          "output_type": "display_data",
          "data": {
            "text/plain": [
              "     [,1] [,2] [,3]\n",
              "[1,] 1    4    7   \n",
              "[2,] 2    5    8   \n",
              "[3,] 3    6    9   "
            ],
            "text/latex": "A matrix: 3 × 3 of type int\n\\begin{tabular}{lll}\n\t 1 & 4 & 7\\\\\n\t 2 & 5 & 8\\\\\n\t 3 & 6 & 9\\\\\n\\end{tabular}\n",
            "text/markdown": "\nA matrix: 3 × 3 of type int\n\n| 1 | 4 | 7 |\n| 2 | 5 | 8 |\n| 3 | 6 | 9 |\n\n",
            "text/html": [
              "<table class=\"dataframe\">\n",
              "<caption>A matrix: 3 × 3 of type int</caption>\n",
              "<tbody>\n",
              "\t<tr><td>1</td><td>4</td><td>7</td></tr>\n",
              "\t<tr><td>2</td><td>5</td><td>8</td></tr>\n",
              "\t<tr><td>3</td><td>6</td><td>9</td></tr>\n",
              "</tbody>\n",
              "</table>\n"
            ]
          },
          "metadata": {
            "tags": []
          }
        }
      ]
    },
    {
      "cell_type": "code",
      "metadata": {
        "id": "UTLc5Mfg9qt_",
        "outputId": "e08d1743-9566-4255-b037-b5fa7637c453",
        "colab": {
          "base_uri": "https://localhost:8080/",
          "height": 169
        }
      },
      "source": [
        "#Using sequence 4:15 create a matrix B with size 4*3\n",
        "B <- matrix(4:15, nrow=4, ncol=3)\n",
        "B"
      ],
      "execution_count": 5,
      "outputs": [
        {
          "output_type": "display_data",
          "data": {
            "text/plain": [
              "     [,1] [,2] [,3]\n",
              "[1,] 4     8   12  \n",
              "[2,] 5     9   13  \n",
              "[3,] 6    10   14  \n",
              "[4,] 7    11   15  "
            ],
            "text/latex": "A matrix: 4 × 3 of type int\n\\begin{tabular}{lll}\n\t 4 &  8 & 12\\\\\n\t 5 &  9 & 13\\\\\n\t 6 & 10 & 14\\\\\n\t 7 & 11 & 15\\\\\n\\end{tabular}\n",
            "text/markdown": "\nA matrix: 4 × 3 of type int\n\n| 4 |  8 | 12 |\n| 5 |  9 | 13 |\n| 6 | 10 | 14 |\n| 7 | 11 | 15 |\n\n",
            "text/html": [
              "<table class=\"dataframe\">\n",
              "<caption>A matrix: 4 × 3 of type int</caption>\n",
              "<tbody>\n",
              "\t<tr><td>4</td><td> 8</td><td>12</td></tr>\n",
              "\t<tr><td>5</td><td> 9</td><td>13</td></tr>\n",
              "\t<tr><td>6</td><td>10</td><td>14</td></tr>\n",
              "\t<tr><td>7</td><td>11</td><td>15</td></tr>\n",
              "</tbody>\n",
              "</table>\n"
            ]
          },
          "metadata": {
            "tags": []
          }
        }
      ]
    },
    {
      "cell_type": "code",
      "metadata": {
        "id": "asF0pX3o9osY",
        "outputId": "809ef4d0-05c0-47f8-ba30-43b5d972609d",
        "colab": {
          "base_uri": "https://localhost:8080/",
          "height": 156
        }
      },
      "source": [
        "#Using sequnce 8:10 create a matrix C with size 3*2\n",
        "C <- matrix(8:10, nrow=3, ncol=2)\n",
        "C"
      ],
      "execution_count": 6,
      "outputs": [
        {
          "output_type": "display_data",
          "data": {
            "text/plain": [
              "     [,1] [,2]\n",
              "[1,]  8    8  \n",
              "[2,]  9    9  \n",
              "[3,] 10   10  "
            ],
            "text/latex": "A matrix: 3 × 2 of type int\n\\begin{tabular}{ll}\n\t  8 &  8\\\\\n\t  9 &  9\\\\\n\t 10 & 10\\\\\n\\end{tabular}\n",
            "text/markdown": "\nA matrix: 3 × 2 of type int\n\n|  8 |  8 |\n|  9 |  9 |\n| 10 | 10 |\n\n",
            "text/html": [
              "<table class=\"dataframe\">\n",
              "<caption>A matrix: 3 × 2 of type int</caption>\n",
              "<tbody>\n",
              "\t<tr><td> 8</td><td> 8</td></tr>\n",
              "\t<tr><td> 9</td><td> 9</td></tr>\n",
              "\t<tr><td>10</td><td>10</td></tr>\n",
              "</tbody>\n",
              "</table>\n"
            ]
          },
          "metadata": {
            "tags": []
          }
        }
      ]
    },
    {
      "cell_type": "code",
      "metadata": {
        "id": "AgsHBXuB9nLU",
        "outputId": "fe4c6ce1-1ede-4e28-ab83-dba0452c7c44",
        "colab": {
          "base_uri": "https://localhost:8080/",
          "height": 475
        }
      },
      "source": [
        "# create variable MyList as list of matrix A, B, C\n",
        "MyList <- list(A, B, C)\n",
        "MyList"
      ],
      "execution_count": 7,
      "outputs": [
        {
          "output_type": "display_data",
          "data": {
            "text/plain": [
              "[[1]]\n",
              "     [,1] [,2] [,3]\n",
              "[1,]    1    4    7\n",
              "[2,]    2    5    8\n",
              "[3,]    3    6    9\n",
              "\n",
              "[[2]]\n",
              "     [,1] [,2] [,3]\n",
              "[1,]    4    8   12\n",
              "[2,]    5    9   13\n",
              "[3,]    6   10   14\n",
              "[4,]    7   11   15\n",
              "\n",
              "[[3]]\n",
              "     [,1] [,2]\n",
              "[1,]    8    8\n",
              "[2,]    9    9\n",
              "[3,]   10   10\n"
            ],
            "text/latex": "\\begin{enumerate}\n\\item A matrix: 3 × 3 of type int\n\\begin{tabular}{lll}\n\t 1 & 4 & 7\\\\\n\t 2 & 5 & 8\\\\\n\t 3 & 6 & 9\\\\\n\\end{tabular}\n\n\\item A matrix: 4 × 3 of type int\n\\begin{tabular}{lll}\n\t 4 &  8 & 12\\\\\n\t 5 &  9 & 13\\\\\n\t 6 & 10 & 14\\\\\n\t 7 & 11 & 15\\\\\n\\end{tabular}\n\n\\item A matrix: 3 × 2 of type int\n\\begin{tabular}{ll}\n\t  8 &  8\\\\\n\t  9 &  9\\\\\n\t 10 & 10\\\\\n\\end{tabular}\n\n\\end{enumerate}\n",
            "text/markdown": "1. \nA matrix: 3 × 3 of type int\n\n| 1 | 4 | 7 |\n| 2 | 5 | 8 |\n| 3 | 6 | 9 |\n\n\n2. \nA matrix: 4 × 3 of type int\n\n| 4 |  8 | 12 |\n| 5 |  9 | 13 |\n| 6 | 10 | 14 |\n| 7 | 11 | 15 |\n\n\n3. \nA matrix: 3 × 2 of type int\n\n|  8 |  8 |\n|  9 |  9 |\n| 10 | 10 |\n\n\n\n\n",
            "text/html": [
              "<ol>\n",
              "\t<li><table class=\"dataframe\">\n",
              "<caption>A matrix: 3 × 3 of type int</caption>\n",
              "<tbody>\n",
              "\t<tr><td>1</td><td>4</td><td>7</td></tr>\n",
              "\t<tr><td>2</td><td>5</td><td>8</td></tr>\n",
              "\t<tr><td>3</td><td>6</td><td>9</td></tr>\n",
              "</tbody>\n",
              "</table>\n",
              "</li>\n",
              "\t<li><table class=\"dataframe\">\n",
              "<caption>A matrix: 4 × 3 of type int</caption>\n",
              "<tbody>\n",
              "\t<tr><td>4</td><td> 8</td><td>12</td></tr>\n",
              "\t<tr><td>5</td><td> 9</td><td>13</td></tr>\n",
              "\t<tr><td>6</td><td>10</td><td>14</td></tr>\n",
              "\t<tr><td>7</td><td>11</td><td>15</td></tr>\n",
              "</tbody>\n",
              "</table>\n",
              "</li>\n",
              "\t<li><table class=\"dataframe\">\n",
              "<caption>A matrix: 3 × 2 of type int</caption>\n",
              "<tbody>\n",
              "\t<tr><td> 8</td><td> 8</td></tr>\n",
              "\t<tr><td> 9</td><td> 9</td></tr>\n",
              "\t<tr><td>10</td><td>10</td></tr>\n",
              "</tbody>\n",
              "</table>\n",
              "</li>\n",
              "</ol>\n"
            ]
          },
          "metadata": {
            "tags": []
          }
        }
      ]
    },
    {
      "cell_type": "code",
      "metadata": {
        "id": "crdIamOr9lda",
        "outputId": "fd9beb86-4ff2-4dda-b45d-bc013ec6a23a",
        "colab": {
          "base_uri": "https://localhost:8080/",
          "height": 95
        }
      },
      "source": [
        "# Using lapply and [ operator Extract the 2nd column from `MyList` with the selection operator `[` with `lapply()`\n",
        "lapply(MyList, '[', , 2)"
      ],
      "execution_count": 8,
      "outputs": [
        {
          "output_type": "display_data",
          "data": {
            "text/plain": [
              "[[1]]\n",
              "[1] 4 5 6\n",
              "\n",
              "[[2]]\n",
              "[1]  8  9 10 11\n",
              "\n",
              "[[3]]\n",
              "[1]  8  9 10\n"
            ],
            "text/latex": "\\begin{enumerate}\n\\item \\begin{enumerate*}\n\\item 4\n\\item 5\n\\item 6\n\\end{enumerate*}\n\n\\item \\begin{enumerate*}\n\\item 8\n\\item 9\n\\item 10\n\\item 11\n\\end{enumerate*}\n\n\\item \\begin{enumerate*}\n\\item 8\n\\item 9\n\\item 10\n\\end{enumerate*}\n\n\\end{enumerate}\n",
            "text/markdown": "1. 1. 4\n2. 5\n3. 6\n\n\n\n2. 1. 8\n2. 9\n3. 10\n4. 11\n\n\n\n3. 1. 8\n2. 9\n3. 10\n\n\n\n\n\n",
            "text/html": [
              "<ol>\n",
              "\t<li><style>\n",
              ".list-inline {list-style: none; margin:0; padding: 0}\n",
              ".list-inline>li {display: inline-block}\n",
              ".list-inline>li:not(:last-child)::after {content: \"\\00b7\"; padding: 0 .5ex}\n",
              "</style>\n",
              "<ol class=list-inline><li>4</li><li>5</li><li>6</li></ol>\n",
              "</li>\n",
              "\t<li><style>\n",
              ".list-inline {list-style: none; margin:0; padding: 0}\n",
              ".list-inline>li {display: inline-block}\n",
              ".list-inline>li:not(:last-child)::after {content: \"\\00b7\"; padding: 0 .5ex}\n",
              "</style>\n",
              "<ol class=list-inline><li>8</li><li>9</li><li>10</li><li>11</li></ol>\n",
              "</li>\n",
              "\t<li><style>\n",
              ".list-inline {list-style: none; margin:0; padding: 0}\n",
              ".list-inline>li {display: inline-block}\n",
              ".list-inline>li:not(:last-child)::after {content: \"\\00b7\"; padding: 0 .5ex}\n",
              "</style>\n",
              "<ol class=list-inline><li>8</li><li>9</li><li>10</li></ol>\n",
              "</li>\n",
              "</ol>\n"
            ]
          },
          "metadata": {
            "tags": []
          }
        }
      ]
    },
    {
      "cell_type": "code",
      "metadata": {
        "id": "FAEFmFLu9iyC",
        "outputId": "bd420b41-06cb-4f3e-aecf-3113a7e97b0b",
        "colab": {
          "base_uri": "https://localhost:8080/",
          "height": 128
        }
      },
      "source": [
        "# Using lapply and [ operator Extract the 4th row from `MyList` with the selection operator `[` with `lapply()`\n",
        "lapply(MyList, '[', 4, )\n",
        "# Error Occurs because in MyList there are 3 matrix where matrix A and C is having only 3 rows!!!"
      ],
      "execution_count": 9,
      "outputs": [
        {
          "output_type": "error",
          "ename": "ERROR",
          "evalue": "ignored",
          "traceback": [
            "Error in FUN(X[[i]], ...): subscript out of bounds\nTraceback:\n",
            "1. lapply(MyList, \"[\", 4, )"
          ]
        }
      ]
    },
    {
      "cell_type": "code",
      "metadata": {
        "id": "BQFnayWf9gyp",
        "outputId": "3c80082c-dd15-4b1a-b9d1-05efd1f2577c",
        "colab": {
          "base_uri": "https://localhost:8080/",
          "height": 95
        }
      },
      "source": [
        "# Using lapply and [ operator Extract the 1st row from `MyList` with the selection operator `[` with `lapply()`\n",
        "lapply(MyList, '[', 1, )"
      ],
      "execution_count": 10,
      "outputs": [
        {
          "output_type": "display_data",
          "data": {
            "text/plain": [
              "[[1]]\n",
              "[1] 1 4 7\n",
              "\n",
              "[[2]]\n",
              "[1]  4  8 12\n",
              "\n",
              "[[3]]\n",
              "[1] 8 8\n"
            ],
            "text/latex": "\\begin{enumerate}\n\\item \\begin{enumerate*}\n\\item 1\n\\item 4\n\\item 7\n\\end{enumerate*}\n\n\\item \\begin{enumerate*}\n\\item 4\n\\item 8\n\\item 12\n\\end{enumerate*}\n\n\\item \\begin{enumerate*}\n\\item 8\n\\item 8\n\\end{enumerate*}\n\n\\end{enumerate}\n",
            "text/markdown": "1. 1. 1\n2. 4\n3. 7\n\n\n\n2. 1. 4\n2. 8\n3. 12\n\n\n\n3. 1. 8\n2. 8\n\n\n\n\n\n",
            "text/html": [
              "<ol>\n",
              "\t<li><style>\n",
              ".list-inline {list-style: none; margin:0; padding: 0}\n",
              ".list-inline>li {display: inline-block}\n",
              ".list-inline>li:not(:last-child)::after {content: \"\\00b7\"; padding: 0 .5ex}\n",
              "</style>\n",
              "<ol class=list-inline><li>1</li><li>4</li><li>7</li></ol>\n",
              "</li>\n",
              "\t<li><style>\n",
              ".list-inline {list-style: none; margin:0; padding: 0}\n",
              ".list-inline>li {display: inline-block}\n",
              ".list-inline>li:not(:last-child)::after {content: \"\\00b7\"; padding: 0 .5ex}\n",
              "</style>\n",
              "<ol class=list-inline><li>4</li><li>8</li><li>12</li></ol>\n",
              "</li>\n",
              "\t<li><style>\n",
              ".list-inline {list-style: none; margin:0; padding: 0}\n",
              ".list-inline>li {display: inline-block}\n",
              ".list-inline>li:not(:last-child)::after {content: \"\\00b7\"; padding: 0 .5ex}\n",
              "</style>\n",
              "<ol class=list-inline><li>8</li><li>8</li></ol>\n",
              "</li>\n",
              "</ol>\n"
            ]
          },
          "metadata": {
            "tags": []
          }
        }
      ]
    },
    {
      "cell_type": "markdown",
      "metadata": {
        "id": "G0kWHtRVjDjw"
      },
      "source": [
        "The **sapply()** Function\n",
        "\n",
        "The **sapply()** function works like **lapply()**, but it tries to simplify the output to the most elementary data structure that is possible. And indeed, ```sapply()``` is a **‘wrapper’** function for **lapply()**.\n",
        "\n",
        "Let’s repeat the extraction operation of a single element as in the last example, but now take the first element of the second row (indexes 2 and 1) for each matrix.\n",
        "\n",
        "Applying the **lapply()** function would give us a list unless you pass ```simplify=FALSE``` as a parameter to **sapply()**. Then, a list will be returned. See how it works in the code chunk below:\n",
        "\n"
      ]
    },
    {
      "cell_type": "code",
      "metadata": {
        "id": "RxXnDh47jiBF",
        "outputId": "b7dce9f5-2adf-4f8f-a64e-76dd6bffe89a",
        "colab": {
          "base_uri": "https://localhost:8080/",
          "height": 207
        }
      },
      "source": [
        "# Return a list with `lapply()`\n",
        "lapply(MyList,\"[\", 2, 1 )\n",
        "\n",
        "# Return a vector with `sapply()`\n",
        "sapply(MyList,\"[\", 2, 1 )\n",
        "\n",
        "# Return a list with `sapply()`\n",
        "sapply(MyList,\"[\", 2, 1, simplify=F)\n",
        "\n",
        "# Return a vector with `unlist()`\n",
        "unlist(lapply(MyList,\"[\", 2, 1 ))"
      ],
      "execution_count": 11,
      "outputs": [
        {
          "output_type": "display_data",
          "data": {
            "text/plain": [
              "[[1]]\n",
              "[1] 2\n",
              "\n",
              "[[2]]\n",
              "[1] 5\n",
              "\n",
              "[[3]]\n",
              "[1] 9\n"
            ],
            "text/latex": "\\begin{enumerate}\n\\item 2\n\\item 5\n\\item 9\n\\end{enumerate}\n",
            "text/markdown": "1. 2\n2. 5\n3. 9\n\n\n",
            "text/html": [
              "<ol>\n",
              "\t<li>2</li>\n",
              "\t<li>5</li>\n",
              "\t<li>9</li>\n",
              "</ol>\n"
            ]
          },
          "metadata": {
            "tags": []
          }
        },
        {
          "output_type": "display_data",
          "data": {
            "text/plain": [
              "[1] 2 5 9"
            ],
            "text/latex": "\\begin{enumerate*}\n\\item 2\n\\item 5\n\\item 9\n\\end{enumerate*}\n",
            "text/markdown": "1. 2\n2. 5\n3. 9\n\n\n",
            "text/html": [
              "<style>\n",
              ".list-inline {list-style: none; margin:0; padding: 0}\n",
              ".list-inline>li {display: inline-block}\n",
              ".list-inline>li:not(:last-child)::after {content: \"\\00b7\"; padding: 0 .5ex}\n",
              "</style>\n",
              "<ol class=list-inline><li>2</li><li>5</li><li>9</li></ol>\n"
            ]
          },
          "metadata": {
            "tags": []
          }
        },
        {
          "output_type": "display_data",
          "data": {
            "text/plain": [
              "[[1]]\n",
              "[1] 2\n",
              "\n",
              "[[2]]\n",
              "[1] 5\n",
              "\n",
              "[[3]]\n",
              "[1] 9\n"
            ],
            "text/latex": "\\begin{enumerate}\n\\item 2\n\\item 5\n\\item 9\n\\end{enumerate}\n",
            "text/markdown": "1. 2\n2. 5\n3. 9\n\n\n",
            "text/html": [
              "<ol>\n",
              "\t<li>2</li>\n",
              "\t<li>5</li>\n",
              "\t<li>9</li>\n",
              "</ol>\n"
            ]
          },
          "metadata": {
            "tags": []
          }
        },
        {
          "output_type": "display_data",
          "data": {
            "text/plain": [
              "[1] 2 5 9"
            ],
            "text/latex": "\\begin{enumerate*}\n\\item 2\n\\item 5\n\\item 9\n\\end{enumerate*}\n",
            "text/markdown": "1. 2\n2. 5\n3. 9\n\n\n",
            "text/html": [
              "<style>\n",
              ".list-inline {list-style: none; margin:0; padding: 0}\n",
              ".list-inline>li {display: inline-block}\n",
              ".list-inline>li:not(:last-child)::after {content: \"\\00b7\"; padding: 0 .5ex}\n",
              "</style>\n",
              "<ol class=list-inline><li>2</li><li>5</li><li>9</li></ol>\n"
            ]
          },
          "metadata": {
            "tags": []
          }
        }
      ]
    },
    {
      "cell_type": "markdown",
      "metadata": {
        "id": "WuuRcW03kJyA"
      },
      "source": [
        "In this Text Block Write note on mapply function and give exampe code and exaplain use of mapply function.\n",
        "\n",
        "1.The arguments for mapply are mapply(FUN, …, MoreArgs = NULL, SIMPLIFY = TRUE, USE.NAMES = TRUE). First you list the function, followed by the vectors you are using the rest of the arguments have default values so they don’t need to be changed for now. When you have a function that takes 2 arguments, the first vector goes into the first argument and the second vector goes into the second argument.  \n"
      ]
    },
    {
      "cell_type": "markdown",
      "metadata": {
        "id": "9tWfn_15-vdK"
      },
      "source": [
        "Example use of Mapply Function"
      ]
    },
    {
      "cell_type": "markdown",
      "metadata": {
        "id": "RL4jrgDn--7i"
      },
      "source": [
        "##### Example 1\n",
        "In this example, 1:9 is specifying the value to repeat, and 9:1 is specifying how many times to repeat. This order is based on the order of arguments in the rep function itself."
      ]
    },
    {
      "cell_type": "code",
      "metadata": {
        "id": "pos2C33ujiEh",
        "outputId": "e79301d2-2a98-42c1-9fb6-596fb295907a",
        "colab": {
          "base_uri": "https://localhost:8080/",
          "height": 196
        }
      },
      "source": [
        "# Example use of mapply function\n",
        " mapply(rep, 1:9, 9:1)"
      ],
      "execution_count": 12,
      "outputs": [
        {
          "output_type": "display_data",
          "data": {
            "text/plain": [
              "[[1]]\n",
              "[1] 1 1 1 1 1 1 1 1 1\n",
              "\n",
              "[[2]]\n",
              "[1] 2 2 2 2 2 2 2 2\n",
              "\n",
              "[[3]]\n",
              "[1] 3 3 3 3 3 3 3\n",
              "\n",
              "[[4]]\n",
              "[1] 4 4 4 4 4 4\n",
              "\n",
              "[[5]]\n",
              "[1] 5 5 5 5 5\n",
              "\n",
              "[[6]]\n",
              "[1] 6 6 6 6\n",
              "\n",
              "[[7]]\n",
              "[1] 7 7 7\n",
              "\n",
              "[[8]]\n",
              "[1] 8 8\n",
              "\n",
              "[[9]]\n",
              "[1] 9\n"
            ],
            "text/latex": "\\begin{enumerate}\n\\item \\begin{enumerate*}\n\\item 1\n\\item 1\n\\item 1\n\\item 1\n\\item 1\n\\item 1\n\\item 1\n\\item 1\n\\item 1\n\\end{enumerate*}\n\n\\item \\begin{enumerate*}\n\\item 2\n\\item 2\n\\item 2\n\\item 2\n\\item 2\n\\item 2\n\\item 2\n\\item 2\n\\end{enumerate*}\n\n\\item \\begin{enumerate*}\n\\item 3\n\\item 3\n\\item 3\n\\item 3\n\\item 3\n\\item 3\n\\item 3\n\\end{enumerate*}\n\n\\item \\begin{enumerate*}\n\\item 4\n\\item 4\n\\item 4\n\\item 4\n\\item 4\n\\item 4\n\\end{enumerate*}\n\n\\item \\begin{enumerate*}\n\\item 5\n\\item 5\n\\item 5\n\\item 5\n\\item 5\n\\end{enumerate*}\n\n\\item \\begin{enumerate*}\n\\item 6\n\\item 6\n\\item 6\n\\item 6\n\\end{enumerate*}\n\n\\item \\begin{enumerate*}\n\\item 7\n\\item 7\n\\item 7\n\\end{enumerate*}\n\n\\item \\begin{enumerate*}\n\\item 8\n\\item 8\n\\end{enumerate*}\n\n\\item 9\n\\end{enumerate}\n",
            "text/markdown": "1. 1. 1\n2. 1\n3. 1\n4. 1\n5. 1\n6. 1\n7. 1\n8. 1\n9. 1\n\n\n\n2. 1. 2\n2. 2\n3. 2\n4. 2\n5. 2\n6. 2\n7. 2\n8. 2\n\n\n\n3. 1. 3\n2. 3\n3. 3\n4. 3\n5. 3\n6. 3\n7. 3\n\n\n\n4. 1. 4\n2. 4\n3. 4\n4. 4\n5. 4\n6. 4\n\n\n\n5. 1. 5\n2. 5\n3. 5\n4. 5\n5. 5\n\n\n\n6. 1. 6\n2. 6\n3. 6\n4. 6\n\n\n\n7. 1. 7\n2. 7\n3. 7\n\n\n\n8. 1. 8\n2. 8\n\n\n\n9. 9\n\n\n",
            "text/html": [
              "<ol>\n",
              "\t<li><style>\n",
              ".list-inline {list-style: none; margin:0; padding: 0}\n",
              ".list-inline>li {display: inline-block}\n",
              ".list-inline>li:not(:last-child)::after {content: \"\\00b7\"; padding: 0 .5ex}\n",
              "</style>\n",
              "<ol class=list-inline><li>1</li><li>1</li><li>1</li><li>1</li><li>1</li><li>1</li><li>1</li><li>1</li><li>1</li></ol>\n",
              "</li>\n",
              "\t<li><style>\n",
              ".list-inline {list-style: none; margin:0; padding: 0}\n",
              ".list-inline>li {display: inline-block}\n",
              ".list-inline>li:not(:last-child)::after {content: \"\\00b7\"; padding: 0 .5ex}\n",
              "</style>\n",
              "<ol class=list-inline><li>2</li><li>2</li><li>2</li><li>2</li><li>2</li><li>2</li><li>2</li><li>2</li></ol>\n",
              "</li>\n",
              "\t<li><style>\n",
              ".list-inline {list-style: none; margin:0; padding: 0}\n",
              ".list-inline>li {display: inline-block}\n",
              ".list-inline>li:not(:last-child)::after {content: \"\\00b7\"; padding: 0 .5ex}\n",
              "</style>\n",
              "<ol class=list-inline><li>3</li><li>3</li><li>3</li><li>3</li><li>3</li><li>3</li><li>3</li></ol>\n",
              "</li>\n",
              "\t<li><style>\n",
              ".list-inline {list-style: none; margin:0; padding: 0}\n",
              ".list-inline>li {display: inline-block}\n",
              ".list-inline>li:not(:last-child)::after {content: \"\\00b7\"; padding: 0 .5ex}\n",
              "</style>\n",
              "<ol class=list-inline><li>4</li><li>4</li><li>4</li><li>4</li><li>4</li><li>4</li></ol>\n",
              "</li>\n",
              "\t<li><style>\n",
              ".list-inline {list-style: none; margin:0; padding: 0}\n",
              ".list-inline>li {display: inline-block}\n",
              ".list-inline>li:not(:last-child)::after {content: \"\\00b7\"; padding: 0 .5ex}\n",
              "</style>\n",
              "<ol class=list-inline><li>5</li><li>5</li><li>5</li><li>5</li><li>5</li></ol>\n",
              "</li>\n",
              "\t<li><style>\n",
              ".list-inline {list-style: none; margin:0; padding: 0}\n",
              ".list-inline>li {display: inline-block}\n",
              ".list-inline>li:not(:last-child)::after {content: \"\\00b7\"; padding: 0 .5ex}\n",
              "</style>\n",
              "<ol class=list-inline><li>6</li><li>6</li><li>6</li><li>6</li></ol>\n",
              "</li>\n",
              "\t<li><style>\n",
              ".list-inline {list-style: none; margin:0; padding: 0}\n",
              ".list-inline>li {display: inline-block}\n",
              ".list-inline>li:not(:last-child)::after {content: \"\\00b7\"; padding: 0 .5ex}\n",
              "</style>\n",
              "<ol class=list-inline><li>7</li><li>7</li><li>7</li></ol>\n",
              "</li>\n",
              "\t<li><style>\n",
              ".list-inline {list-style: none; margin:0; padding: 0}\n",
              ".list-inline>li {display: inline-block}\n",
              ".list-inline>li:not(:last-child)::after {content: \"\\00b7\"; padding: 0 .5ex}\n",
              "</style>\n",
              "<ol class=list-inline><li>8</li><li>8</li></ol>\n",
              "</li>\n",
              "\t<li>9</li>\n",
              "</ol>\n"
            ]
          },
          "metadata": {
            "tags": []
          }
        }
      ]
    },
    {
      "cell_type": "markdown",
      "metadata": {
        "id": "XKMPq3RD_GTC"
      },
      "source": [
        "##### Example 2\n",
        "Another use for mapply would be to create a new variable. For example, using  dataset t, I could divide one column by another column to create a new value. This would be useful for creating a ratio of two variables as shown in the example below."
      ]
    },
    {
      "cell_type": "code",
      "metadata": {
        "id": "i2y6F_S6_Je5",
        "outputId": "b5157041-ddcf-46c4-f1a2-edf05461bfbc",
        "colab": {
          "base_uri": "https://localhost:8080/",
          "height": 34
        }
      },
      "source": [
        "my.matrx <- matrix(c(1:10, 11:20, 21:30), nrow = 10, ncol = 3)\n",
        "tdata <- as.data.frame(cbind(c(1,1,1,1,1,2,2,2,2,2), my.matrx))\n",
        "\n",
        "tdata$V5<- mapply(function(x, y) x/y, tdata$V2, tdata$V4)\n",
        "tdata$V5"
      ],
      "execution_count": 13,
      "outputs": [
        {
          "output_type": "display_data",
          "data": {
            "text/plain": [
              " [1] 0.04761905 0.09090909 0.13043478 0.16666667 0.20000000 0.23076923\n",
              " [7] 0.25925926 0.28571429 0.31034483 0.33333333"
            ],
            "text/latex": "\\begin{enumerate*}\n\\item 0.0476190476190476\n\\item 0.0909090909090909\n\\item 0.130434782608696\n\\item 0.166666666666667\n\\item 0.2\n\\item 0.230769230769231\n\\item 0.259259259259259\n\\item 0.285714285714286\n\\item 0.310344827586207\n\\item 0.333333333333333\n\\end{enumerate*}\n",
            "text/markdown": "1. 0.0476190476190476\n2. 0.0909090909090909\n3. 0.130434782608696\n4. 0.166666666666667\n5. 0.2\n6. 0.230769230769231\n7. 0.259259259259259\n8. 0.285714285714286\n9. 0.310344827586207\n10. 0.333333333333333\n\n\n",
            "text/html": [
              "<style>\n",
              ".list-inline {list-style: none; margin:0; padding: 0}\n",
              ".list-inline>li {display: inline-block}\n",
              ".list-inline>li:not(:last-child)::after {content: \"\\00b7\"; padding: 0 .5ex}\n",
              "</style>\n",
              "<ol class=list-inline><li>0.0476190476190476</li><li>0.0909090909090909</li><li>0.130434782608696</li><li>0.166666666666667</li><li>0.2</li><li>0.230769230769231</li><li>0.259259259259259</li><li>0.285714285714286</li><li>0.310344827586207</li><li>0.333333333333333</li></ol>\n"
            ]
          },
          "metadata": {
            "tags": []
          }
        }
      ]
    },
    {
      "cell_type": "markdown",
      "metadata": {
        "id": "8GPh81nf_bwP"
      },
      "source": [
        "##### Example 3\n",
        "When using an apply family function to create a new variable, one option is to create a new vector ahead of time with the size of the vector pre-allocated. I created a numeric vector of length 10 using the vector function. The arguments for the vector function are vector(mode, length). Inside mapply I created a function to multiple two variables together. The results of the mapply function are then saved into the vector."
      ]
    },
    {
      "cell_type": "code",
      "metadata": {
        "id": "teFOWztC_ici",
        "outputId": "5d28d549-cb0d-41b2-d0d3-f9a225487bed",
        "colab": {
          "base_uri": "https://localhost:8080/",
          "height": 34
        }
      },
      "source": [
        "new.vec <- vector(mode = \"numeric\", length = 10)\n",
        "new.vec <- mapply(function(x, y) x*y, tdata$V3, tdata$V4)\n",
        "new.vec"
      ],
      "execution_count": 14,
      "outputs": [
        {
          "output_type": "display_data",
          "data": {
            "text/plain": [
              " [1] 231 264 299 336 375 416 459 504 551 600"
            ],
            "text/latex": "\\begin{enumerate*}\n\\item 231\n\\item 264\n\\item 299\n\\item 336\n\\item 375\n\\item 416\n\\item 459\n\\item 504\n\\item 551\n\\item 600\n\\end{enumerate*}\n",
            "text/markdown": "1. 231\n2. 264\n3. 299\n4. 336\n5. 375\n6. 416\n7. 459\n8. 504\n9. 551\n10. 600\n\n\n",
            "text/html": [
              "<style>\n",
              ".list-inline {list-style: none; margin:0; padding: 0}\n",
              ".list-inline>li {display: inline-block}\n",
              ".list-inline>li:not(:last-child)::after {content: \"\\00b7\"; padding: 0 .5ex}\n",
              "</style>\n",
              "<ol class=list-inline><li>231</li><li>264</li><li>299</li><li>336</li><li>375</li><li>416</li><li>459</li><li>504</li><li>551</li><li>600</li></ol>\n"
            ]
          },
          "metadata": {
            "tags": []
          }
        }
      ]
    }
  ]
}